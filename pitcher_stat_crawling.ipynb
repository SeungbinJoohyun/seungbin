{
 "cells": [
  {
   "cell_type": "code",
   "execution_count": 1,
   "metadata": {},
   "outputs": [],
   "source": [
    "from bs4 import BeautifulSoup\n",
    "import pandas as pd\n",
    "import requests\n"
   ]
  },
  {
   "cell_type": "code",
   "execution_count": 2,
   "metadata": {},
   "outputs": [],
   "source": [
    "# 선수 ID 지정 (예: 11310은 특정 선수의 고유 번호/등판기록이 없는 선수 예 id: 16251)\n",
    "player_id = \"11310\" #데이터 프레임에서 가져온 변수가 될 예정\n",
    "url = f\"https://statiz.sporki.com/player/?m=year&p_no={player_id}\"\n",
    "url_nodata ='https://statiz.sporki.com/stats/?m=team&m2=pitching'\n"
   ]
  },
  {
   "cell_type": "code",
   "execution_count": 3,
   "metadata": {},
   "outputs": [],
   "source": [
    "def crawl_statiz_pitcher_data(url):\n",
    "    \"\"\"\n",
    "    스탯티즈에서 선발투수 등판 기록을 크롤링하는 함수\n",
    "    \"\"\"\n",
    "    tempValue = ''     #rowspan이 2로 행이 묶여 정보가 누락되는 문제 해결을 위한 변수들\n",
    "    onRowapply1 = False #한 행의 열데이터 들을 수집하면서 rowspan==2를 감지하면 True\n",
    "    onRowapply2 = False #한 행의 열데이터를 모두 수집하였을때 onRowapply1이 True면 True\n",
    "    j=0\n",
    "    try:\n",
    "        \n",
    "        # HTTP 요청 헤더 설정 (봇 차단 방지)\n",
    "        headers = {\n",
    "            'User-Agent': 'Mozilla/5.0 (Windows NT 10.0; Win64; x64) AppleWebKit/537.36 (KHTML, like Gecko) Chrome/137.0.7151.104 Safari/537.36'\n",
    "        }\n",
    "        \n",
    "        # 웹페이지 요청\n",
    "        response = requests.get(url, headers=headers)\n",
    "        response.raise_for_status()\n",
    "        \n",
    "        # BeautifulSoup 객체 생성\n",
    "        soup = BeautifulSoup(response.text, 'html.parser')\n",
    "        \n",
    "        # 테이블 찾기 (일반적으로 통계 데이터는 table 태그 안에 있음)\n",
    "        table = soup.find('table')\n",
    "        if not table:\n",
    "            print(\"테이블을 찾을 수 없습니다.\")\n",
    "            return None\n",
    "        \n",
    "        # 헤더 추출 (th 태그 또는 첫 번째 tr의 td 태그)\n",
    "        headers = []\n",
    "        header_row = table.find('tr')\n",
    "        if header_row:\n",
    "            header_cells = header_row.find_all(['th', 'td'])\n",
    "            headers = [cell.get_text(strip=True) for cell in header_cells]\n",
    "        \n",
    "        # 데이터 행 추출\n",
    "        data_rows = []\n",
    "        rows = table.find_all('tr')[1:]  # 첫 번째 행(헤더) 제외\n",
    "        for i in range (len(list(rows))-1): #마지막 통산 기록 부분 제외를 위해 -1\n",
    "            row = rows[i]\n",
    "            cells = row.find_all('td')\n",
    "            if cells:  # td 태그가 있는 행만 처리\n",
    "                row_data = []\n",
    "                \n",
    "                while j <= (len(list(cells))-1):\n",
    "                    cell = cells[j]\n",
    "                    if onRowapply2 ==True:\n",
    "                        text= tempValue\n",
    "                        onRowapply1 = False\n",
    "                        onRowapply2 = False\n",
    "                        j-=1 #rowspan==2로 인해 누락된 데이터를 입력하느라 원래 데이터를 누락하지 않도록 함\n",
    "                    else:\n",
    "                        # 셀 내용 추출 (줄바꿈 제거, 공백 정리)\n",
    "                        text = cell.get_text(separator=' ', strip=True)\n",
    "\n",
    "                    # 추가 줄바꿈 문자 제거\n",
    "                    text = text.replace('\\n', ' ').replace('\\r', '').strip()\n",
    "                    # 연속된 공백을 하나로 통일\n",
    "                    text = ' '.join(text.split())\n",
    "                    row_data.append(text)\n",
    "                    # 첫번째 컬럼의 td row span 속성값이 2이상일 경우 값을 저장하고 onRowapply1을 True로 변경\n",
    "                    if i==1 and j==0:\n",
    "                        tmpRow = cell.attrs[\"rowspan\"]\n",
    "                        if int( cell[\"rowspan\"] ) >= 2:\n",
    "                            tempValue = text\n",
    "                            onRowapply1 = True #rowspan==2를 감지하면 True로 변경\n",
    "                    j+=1\n",
    "                j=0\n",
    "                \n",
    "                if row_data:  # 빈 행이 아닌 경우만 추가\n",
    "                    data_rows.append(row_data)\n",
    "            if onRowapply1== True: #누락된 데이터를 바로 다음 열에 입력하지 않도록 onRowapply2를 이용\n",
    "                onRowapply2= True\n",
    "        \n",
    "        return headers, data_rows\n",
    "        \n",
    "    except requests.RequestException as e:\n",
    "        print(f\"웹페이지 요청 중 오류 발생: {e}\")\n",
    "        return None\n",
    "    except Exception as e:\n",
    "        print(f\"데이터 추출 중 오류 발생: {e}\")\n",
    "        return None"
   ]
  },
  {
   "cell_type": "code",
   "execution_count": 4,
   "metadata": {},
   "outputs": [],
   "source": [
    "def crawl_statiz_pitcher_nodata(url_nodata):\n",
    "    \"\"\"\n",
    "    결측치 처리를 위한 함수\n",
    "    스탯티즈에서 선발투수 등판 기록이 없을때 리그 평균 스탯을 크롤링하는 함수\n",
    "    \"\"\"\n",
    "    try:\n",
    "        headers = {\n",
    "        'User-Agent': 'Mozilla/5.0 (Windows NT 10.0; Win64; x64) AppleWebKit/537.36 (KHTML, like Gecko) Chrome/137.0.7151.104 Safari/537.36'\n",
    "        }\n",
    "\n",
    "        # 웹페이지 요청\n",
    "        response = requests.get(url_nodata, headers=headers)\n",
    "        response.raise_for_status()\n",
    "\n",
    "        # BeautifulSoup 객체 생성\n",
    "        soup = BeautifulSoup(response.text, 'html.parser')\n",
    "\n",
    "        # 테이블 찾기 (일반적으로 통계 데이터는 table 태그 안에 있음)\n",
    "        table = soup.find('table')\n",
    "        if not table:\n",
    "            print(\"테이블을 찾을 수 없습니다.\")\n",
    "            return None\n",
    "        #colum데이터 추출\n",
    "        headers1 = []\n",
    "        header_row1 = table.find('tr')\n",
    "        if header_row1:\n",
    "            header_cells1 = header_row1.find_all([ 'th','td'])\n",
    "            headers1 = [cell.get_text(strip=True) for cell in header_cells1]\n",
    "        #league_colum_DF = pd.DataFrame(headers1)\n",
    "        # 리그 시즌기록 데이터 추출 (tbody태그 내부에 데이터 존재)\n",
    "        headers2 = []\n",
    "        header_row2 = table.find('tbody')\n",
    "        if header_row2:\n",
    "            header_cells2 = header_row2.find_all([ 'th','td'])\n",
    "            headers2 = [cell.get_text(strip=True) for cell in header_cells2]\n",
    "        #nostat_pitcher_DF = nostat_pitcher_DF.transpose()\n",
    "\n",
    "\n",
    "        return headers1,headers2\n",
    "\n",
    "    except requests.RequestException as e:\n",
    "        print(f\"웹페이지 요청 중 오류 발생: {e}\")\n",
    "        return None\n",
    "    except Exception as e:\n",
    "        print(f\"데이터 추출 중 오류 발생: {e}\")\n",
    "        return None"
   ]
  },
  {
   "cell_type": "markdown",
   "metadata": {},
   "source": [
    "###원본코드 보호"
   ]
  },
  {
   "cell_type": "code",
   "execution_count": null,
   "metadata": {},
   "outputs": [
    {
     "ename": "NameError",
     "evalue": "name '데이터프레임' is not defined",
     "output_type": "error",
     "traceback": [
      "\u001b[0;31m---------------------------------------------------------------------------\u001b[0m",
      "\u001b[0;31mNameError\u001b[0m                                 Traceback (most recent call last)",
      "Cell \u001b[0;32mIn[5], line 3\u001b[0m\n\u001b[1;32m      1\u001b[0m \u001b[38;5;28;01mfor\u001b[39;00m i \u001b[38;5;129;01min\u001b[39;00m \u001b[38;5;28mrange\u001b[39m(\u001b[38;5;241m5\u001b[39m):\n\u001b[1;32m      2\u001b[0m     \u001b[38;5;66;03m#원정 투수 스탯\u001b[39;00m\n\u001b[0;32m----> 3\u001b[0m     player_id\u001b[38;5;241m=\u001b[39m\u001b[43m데이터프레임\u001b[49m[i][\u001b[38;5;241m0\u001b[39m]\n\u001b[1;32m      4\u001b[0m     picher_data\u001b[38;5;241m=\u001b[39mcrawl_statiz_pitcher_data(url)\n\u001b[1;32m      6\u001b[0m     \u001b[38;5;28;01mif\u001b[39;00m picher_data[\u001b[38;5;241m1\u001b[39m]\u001b[38;5;241m==\u001b[39m[]:\n",
      "\u001b[0;31mNameError\u001b[0m: name '데이터프레임' is not defined"
     ]
    }
   ],
   "source": [
    "columlist = ['ERA', 'FIP', 'WHIP']\n",
    "columlist1 = ['ERA1', 'FIP1', 'WHIP1']\n",
    "columlist2 = ['ERA2', 'FIP2', 'WHIP2']\n",
    "\n",
    "picher_stat10_list = []\n",
    "\n",
    "for i in range(5):\n",
    "    picher_stat2_list=[]\n",
    "    #원정 투수 스탯\n",
    "    \n",
    "    player_id=test_data_df[i][4]\n",
    "    picher_data=crawl_statiz_pitcher_data(url)\n",
    "\n",
    "    if picher_data[1]==[]:\n",
    "        picher_nodata=crawl_statiz_pitcher_nodata(url_nodata)\n",
    "        picher_nodata_DF=pd.DataFrame(picher_nodata[1])\n",
    "        picher_nodata_DF = picher_nodata_DF.set_axis(picher_nodata[0], axis=0).transpose()\n",
    "        picher_stat_DF = picher_nodata_DF\n",
    "\n",
    "    else:\n",
    "        picherdata_DF=pd.DataFrame(picher_data[1])\n",
    "        picher_data_DF = picherdata_DF.set_axis(picher_data[0], axis=1)\n",
    "        picher_stat_DF = picher_data_DF\n",
    "    \n",
    "    picher_stat_DF.iloc[-1]\n",
    "    picher_stat_DF = pd.DataFrame(picher_stat_DF.iloc[-1])\n",
    "\n",
    "    picher_stat_DF = picher_stat_DF[columlist]\n",
    "    picher_stat_DF.columns = columlist1\n",
    "\n",
    "    picher_stat2_list.append(picher_stat_DF)\n",
    "\n",
    "    player_id=test_data_df[i][5]\n",
    "    picher_data=crawl_statiz_pitcher_data(url)\n",
    "\n",
    "    if picher_data[1]==[]:\n",
    "        picher_nodata=crawl_statiz_pitcher_nodata(url_nodata)\n",
    "        picher_nodata_DF=pd.DataFrame(picher_nodata[1])\n",
    "        picher_nodata_DF = picher_nodata_DF.set_axis(picher_nodata[0], axis=0).transpose()\n",
    "        picher_stat_DF = picher_nodata_DF\n",
    "\n",
    "    else:\n",
    "        picherdata_DF=pd.DataFrame(picher_data[1])\n",
    "        picher_data_DF = picherdata_DF.set_axis(picher_data[0], axis=1)\n",
    "        picher_stat_DF = picher_data_DF\n",
    "    \n",
    "    picher_stat_DF.iloc[-1]\n",
    "    picher_stat_DF = pd.DataFrame(picher_stat_DF.iloc[-1])\n",
    "\n",
    "    picher_stat_DF = picher_stat_DF[columlist]\n",
    "    picher_stat_DF.columns = columlist2\n",
    "\n",
    "    picher_stat2_list.append(picher_stat_DF)\n",
    "\n",
    "    picher_stat10_list.append(picher_stat2_list)\n",
    "\n",
    "picher_stat10_DF=pd.DataFrame(picher_stat10_list)\n",
    "\n"
   ]
  },
  {
   "cell_type": "code",
   "execution_count": null,
   "metadata": {},
   "outputs": [],
   "source": [
    "# picher_data=crawl_statiz_pitcher_data(url)\n",
    "\n",
    "# if picher_data[1]==[]:\n",
    "#     picher_nodata=crawl_statiz_pitcher_nodata(url_nodata)\n",
    "#     picher_nodata_DF=pd.DataFrame(picher_nodata[1])\n",
    "#     picher_nodata_DF = picher_nodata_DF.set_axis(picher_nodata[0], axis=0).transpose()\n",
    "#     picher_stat_DF = picher_nodata_DF\n",
    "\n",
    "# else:\n",
    "#     picherdata_DF=pd.DataFrame(picher_data[1])\n",
    "#     picher_data_DF = picherdata_DF.set_axis(picher_data[0], axis=1)\n",
    "#     picher_stat_DF = picher_data_DF\n",
    "#     # picherdata_DF.iloc[-1]\n",
    "\n"
   ]
  },
  {
   "cell_type": "code",
   "execution_count": null,
   "metadata": {},
   "outputs": [],
   "source": [
    "# picher_stat_DF.iloc[-1]\n",
    "# picher_stat_DF = pd.DataFrame(picher_stat_DF.iloc[-1])\n",
    "# picher_stat_DF=picher_stat_DF.transpose()\n",
    "\n"
   ]
  },
  {
   "cell_type": "code",
   "execution_count": null,
   "metadata": {},
   "outputs": [],
   "source": [
    "# picher_stat_DF=picher_stat_DF.transpose()"
   ]
  },
  {
   "cell_type": "code",
   "execution_count": null,
   "metadata": {},
   "outputs": [],
   "source": [
    "# columlist = ['ERA', 'FIP', 'WHIP']\n",
    "# columlist1 = ['ERA1', 'FIP1', 'WHIP1']\n",
    "# columlist2 = ['ERA2', 'FIP2', 'WHIP2']\n",
    "# picher_stat_DF = picher_stat_DF[columlist]"
   ]
  },
  {
   "cell_type": "code",
   "execution_count": null,
   "metadata": {},
   "outputs": [],
   "source": [
    "# picher_stat_DF.columns = columlist1"
   ]
  },
  {
   "cell_type": "code",
   "execution_count": null,
   "metadata": {},
   "outputs": [
    {
     "data": {
      "text/html": [
       "<div>\n",
       "<style scoped>\n",
       "    .dataframe tbody tr th:only-of-type {\n",
       "        vertical-align: middle;\n",
       "    }\n",
       "\n",
       "    .dataframe tbody tr th {\n",
       "        vertical-align: top;\n",
       "    }\n",
       "\n",
       "    .dataframe thead th {\n",
       "        text-align: right;\n",
       "    }\n",
       "</style>\n",
       "<table border=\"1\" class=\"dataframe\">\n",
       "  <thead>\n",
       "    <tr style=\"text-align: right;\">\n",
       "      <th></th>\n",
       "      <th>ERA1</th>\n",
       "      <th>FIP1</th>\n",
       "      <th>WHIP1</th>\n",
       "    </tr>\n",
       "  </thead>\n",
       "  <tbody>\n",
       "    <tr>\n",
       "      <th>11</th>\n",
       "      <td>4.34</td>\n",
       "      <td>3.57</td>\n",
       "      <td>1.40</td>\n",
       "    </tr>\n",
       "  </tbody>\n",
       "</table>\n",
       "</div>"
      ],
      "text/plain": [
       "    ERA1  FIP1 WHIP1\n",
       "11  4.34  3.57  1.40"
      ]
     },
     "execution_count": 18,
     "metadata": {},
     "output_type": "execute_result"
    }
   ],
   "source": [
    "# picher_stat_DF"
   ]
  },
  {
   "cell_type": "markdown",
   "metadata": {},
   "source": []
  },
  {
   "cell_type": "code",
   "execution_count": null,
   "metadata": {},
   "outputs": [],
   "source": [
    "# picher_stat2_list=[]\n",
    "# # picher_stat2_list.append(picher_stat_DF.columns =[])\n",
    "# picher_stat2_list.append(picher_stat_DF)"
   ]
  },
  {
   "cell_type": "code",
   "execution_count": null,
   "metadata": {},
   "outputs": [
    {
     "data": {
      "text/plain": [
       "[[     ERA   FIP  WHIP\n",
       "  11  4.34  3.57  1.40,\n",
       "       ERA   FIP  WHIP\n",
       "  11  4.34  3.57  1.40]]"
      ]
     },
     "execution_count": 16,
     "metadata": {},
     "output_type": "execute_result"
    }
   ],
   "source": [
    "# picher_stat10_list=[]\n",
    "# picher_stat10_list.append(picher_stat2_list)\n",
    "# picher_stat10_list"
   ]
  }
 ],
 "metadata": {
  "kernelspec": {
   "display_name": "Python 3",
   "language": "python",
   "name": "python3"
  },
  "language_info": {
   "codemirror_mode": {
    "name": "ipython",
    "version": 3
   },
   "file_extension": ".py",
   "mimetype": "text/x-python",
   "name": "python",
   "nbconvert_exporter": "python",
   "pygments_lexer": "ipython3",
   "version": "3.12.9"
  }
 },
 "nbformat": 4,
 "nbformat_minor": 2
}
